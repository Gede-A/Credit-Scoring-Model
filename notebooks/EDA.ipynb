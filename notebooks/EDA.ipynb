{
 "cells": [
  {
   "cell_type": "code",
   "execution_count": 1,
   "id": "3571b760-5b58-4390-b95e-0fac6cff2f7b",
   "metadata": {},
   "outputs": [
    {
     "name": "stdout",
     "output_type": "stream",
     "text": [
      "         TransactionId         BatchId       AccountId       SubscriptionId  \\\n",
      "0  TransactionId_76871   BatchId_36123  AccountId_3957   SubscriptionId_887   \n",
      "1  TransactionId_73770   BatchId_15642  AccountId_4841  SubscriptionId_3829   \n",
      "2  TransactionId_26203   BatchId_53941  AccountId_4229   SubscriptionId_222   \n",
      "3    TransactionId_380  BatchId_102363   AccountId_648  SubscriptionId_2185   \n",
      "4  TransactionId_28195   BatchId_38780  AccountId_4841  SubscriptionId_3829   \n",
      "\n",
      "        CustomerId CurrencyCode  CountryCode    ProviderId     ProductId  \\\n",
      "0  CustomerId_4406          UGX          256  ProviderId_6  ProductId_10   \n",
      "1  CustomerId_4406          UGX          256  ProviderId_4   ProductId_6   \n",
      "2  CustomerId_4683          UGX          256  ProviderId_6   ProductId_1   \n",
      "3   CustomerId_988          UGX          256  ProviderId_1  ProductId_21   \n",
      "4   CustomerId_988          UGX          256  ProviderId_4   ProductId_6   \n",
      "\n",
      "      ProductCategory    ChannelId   Amount  Value  TransactionStartTime  \\\n",
      "0             airtime  ChannelId_3   1000.0   1000  2018-11-15T02:18:49Z   \n",
      "1  financial_services  ChannelId_2    -20.0     20  2018-11-15T02:19:08Z   \n",
      "2             airtime  ChannelId_3    500.0    500  2018-11-15T02:44:21Z   \n",
      "3        utility_bill  ChannelId_3  20000.0  21800  2018-11-15T03:32:55Z   \n",
      "4  financial_services  ChannelId_2   -644.0    644  2018-11-15T03:34:21Z   \n",
      "\n",
      "   PricingStrategy  FraudResult  \n",
      "0                2            0  \n",
      "1                2            0  \n",
      "2                2            0  \n",
      "3                2            0  \n",
      "4                2            0  \n"
     ]
    }
   ],
   "source": [
    "import pandas as pd\n",
    "data = pd.read_csv('../data/data.csv')\n",
    "framed_data = pd.DataFrame(data)\n",
    "print(framed_data.head())"
   ]
  },
  {
   "cell_type": "code",
   "execution_count": null,
   "id": "362ce915-8411-4c2f-8b90-c3f86f70d1c7",
   "metadata": {},
   "outputs": [],
   "source": [
    "import matplotlib.pyplot as plt  # Correct the import statement\n",
    "\n",
    "# Assuming framed_data is your dataframe\n",
    "categorical_data = framed_data.select_dtypes(include='object').columns\n",
    "numerical_data = framed_data.select_dtypes(include='number').columns\n",
    "\n",
    "\n",
    "# Loop through categorical columns and plot their distribution\n",
    "for category in categorical_data:\n",
    "    plt.figure(figsize=(6, 10))\n",
    "    framed_data[category].value_counts().plot(kind='bar')  # Plot a bar chart for categorical data\n",
    "    plt.title(f'Data Distribution for {category}')  # Add a title for each plot\n",
    "    plt.xlabel('Categories')  # Label x-axis\n",
    "    plt.ylabel('Frequency')  # Label y-axis\n",
    "    plt.xticks(rotation=45)  # Rotate x-ticks for better readability\n",
    "    plt.show()  # Display the plot\n"
   ]
  },
  {
   "cell_type": "code",
   "execution_count": null,
   "id": "6cde782c-95c8-42fc-8c6d-f86a5a6a2a02",
   "metadata": {},
   "outputs": [],
   "source": [
    "import matplotlib.pyplot as plt  # Correct the import statement\n",
    "\n",
    "# Assuming framed_data is your dataframe\n",
    "categorical_data = framed_data.select_dtypes(include='object').columns\n",
    "numerical_data = framed_data.select_dtypes(include='number').columns\n",
    "\n",
    "\n",
    "# Loop through categorical columns and plot their distribution\n",
    "for numerics in numerical_data:\n",
    "    plt.figure(figsize=(6, 10))\n",
    "    framed_data[numerics].plot(kind='box', subplots=True, layout=(len(numerics)//2, 2), figsize=(10, 8), sharex=False, sharey=False)\n",
    "    plt.title(f'Data Distribution for {numerics}')  # Add a title for each plot\n",
    "    plt.xlabel('Range')  # Label x-axis\n",
    "    plt.ylabel('Frequency')  # Label y-axis\n",
    "    plt.xticks(rotation=45)  # Rotate x-ticks for better readability\n",
    "    plt.show()  # Display the plot"
   ]
  },
  {
   "cell_type": "code",
   "execution_count": null,
   "id": "8417a449-9096-4456-b049-fddbfd59f411",
   "metadata": {},
   "outputs": [],
   "source": [
    "import matplotlib.pyplot as plt  # Correct the import statement\n",
    "\n",
    "# Assuming framed_data is your dataframe\n",
    "categorical_data = framed_data.select_dtypes(include='object').columns\n",
    "numerical_data = framed_data.select_dtypes(include='number').columns\n",
    "\n",
    "\n",
    "# Loop through categorical columns and plot their distribution\n",
    "for numerics in numerical_data:\n",
    "    print(f'Mean of {numerics}', framed_data[numerics].mean())\n",
    "    print(f'Median of {numerics}', framed_data[numerics].median())\n",
    "    print(f'Mode of {numerics}', framed_data[numerics].mode())\n",
    "    "
   ]
  },
  {
   "cell_type": "code",
   "execution_count": null,
   "id": "f1348e9b-3244-4435-942d-3b38b2b146a6",
   "metadata": {},
   "outputs": [],
   "source": [
    "import numpy as np\n",
    "import matplotlib.pyplot as plt  # Correct the import statement\n",
    "\n",
    "# Assuming framed_data is your dataframe\n",
    "categorical_data = framed_data.select_dtypes(include='object').columns\n",
    "numerical_data = framed_data.select_dtypes(include='number').columns\n",
    "\n",
    "# Loop through categorical columns and plot their distribution\n",
    "for numerics in numerical_data:\n",
    "    print(f'Varience of {numerics}', framed_data[numerics].var())\n",
    "    print(f'Standared Divation of {numerics}', framed_data[numerics].std())\n",
    "    print(f'Rang of {numerics}', framed_data[numerics].max()-framed_data[numerics].min())\n",
    "    print(f'IQR of {numerics}', np.percentile(framed_data[numerics], 75)-np.percentile(framed_data[numerics], 25))\n",
    "    upper_bound = np.percentile(framed_data[numerics], 75) + 1.5 * (np.percentile(framed_data[numerics], 75) - np.percentile(framed_data[numerics], 25))\n",
    "    lower_bound = np.percentile(framed_data[numerics], 25) - 1.5 * (np.percentile(framed_data[numerics], 75) - np.percentile(framed_data[numerics], 25))\n",
    "    if ((framed_data[numerics] < lower_bound) | (framed_data[numerics] > upper_bound)).any():\n",
    "        framed_data[numerics] = framed_data[numerics].mean()\n",
    "        print('replaced')\n",
    "    else:\n",
    "        print('leave as it is')\n",
    "\n",
    "\n",
    "        \n",
    "    \n",
    "    "
   ]
  },
  {
   "cell_type": "code",
   "execution_count": null,
   "id": "a23bcdd2-86d9-4e56-90e7-2157765b220c",
   "metadata": {},
   "outputs": [],
   "source": [
    "print(framed_data.isnull().sum())"
   ]
  },
  {
   "cell_type": "code",
   "execution_count": null,
   "id": "54fccb01-06c9-441f-ac3f-6d5f78fe43b5",
   "metadata": {},
   "outputs": [],
   "source": []
  }
 ],
 "metadata": {
  "kernelspec": {
   "display_name": "Python 3 (ipykernel)",
   "language": "python",
   "name": "python3"
  },
  "language_info": {
   "codemirror_mode": {
    "name": "ipython",
    "version": 3
   },
   "file_extension": ".py",
   "mimetype": "text/x-python",
   "name": "python",
   "nbconvert_exporter": "python",
   "pygments_lexer": "ipython3",
   "version": "3.12.6"
  }
 },
 "nbformat": 4,
 "nbformat_minor": 5
}
