{
 "cells": [
  {
   "cell_type": "code",
   "execution_count": null,
   "id": "3861d5f5-2258-4361-b0c2-8c374aa4bfa3",
   "metadata": {},
   "outputs": [
    {
     "name": "stdout",
     "output_type": "stream",
     "text": [
      "         TransactionId         BatchId       AccountId       SubscriptionId  \\\n",
      "0  TransactionId_76871   BatchId_36123  AccountId_3957   SubscriptionId_887   \n",
      "1  TransactionId_73770   BatchId_15642  AccountId_4841  SubscriptionId_3829   \n",
      "2  TransactionId_26203   BatchId_53941  AccountId_4229   SubscriptionId_222   \n",
      "3    TransactionId_380  BatchId_102363   AccountId_648  SubscriptionId_2185   \n",
      "4  TransactionId_28195   BatchId_38780  AccountId_4841  SubscriptionId_3829   \n",
      "\n",
      "        CustomerId CurrencyCode  CountryCode    ProviderId     ProductId  \\\n",
      "0  CustomerId_4406          UGX          256  ProviderId_6  ProductId_10   \n",
      "1  CustomerId_4406          UGX          256  ProviderId_4   ProductId_6   \n",
      "2  CustomerId_4683          UGX          256  ProviderId_6   ProductId_1   \n",
      "3   CustomerId_988          UGX          256  ProviderId_1  ProductId_21   \n",
      "4   CustomerId_988          UGX          256  ProviderId_4   ProductId_6   \n",
      "\n",
      "      ProductCategory    ChannelId   Amount  Value  TransactionStartTime  \\\n",
      "0             airtime  ChannelId_3   1000.0   1000  2018-11-15T02:18:49Z   \n",
      "1  financial_services  ChannelId_2    -20.0     20  2018-11-15T02:19:08Z   \n",
      "2             airtime  ChannelId_3    500.0    500  2018-11-15T02:44:21Z   \n",
      "3        utility_bill  ChannelId_3  20000.0  21800  2018-11-15T03:32:55Z   \n",
      "4  financial_services  ChannelId_2   -644.0    644  2018-11-15T03:34:21Z   \n",
      "\n",
      "   PricingStrategy  FraudResult  \n",
      "0                2            0  \n",
      "1                2            0  \n",
      "2                2            0  \n",
      "3                2            0  \n",
      "4                2            0  \n"
     ]
    },
    {
     "data": {
      "image/png": "[encoded data removed]",
      "text/plain": [
       "<Figure size 600x1000 with 1 Axes>"
      ]
     },
     "metadata": {},
     "output_type": "display_data"
    }
   ],
   "source": [
    "%run EDA.ipynb"
   ]
  },
  {
   "cell_type": "code",
   "execution_count": 10,
   "id": "c596a716-18ad-4101-a338-3298cdf2a809",
   "metadata": {},
   "outputs": [
    {
     "name": "stdout",
     "output_type": "stream",
     "text": [
      "         TransactionId         BatchId       AccountId       SubscriptionId  \\\n",
      "0  TransactionId_76871   BatchId_36123  AccountId_3957   SubscriptionId_887   \n",
      "1  TransactionId_73770   BatchId_15642  AccountId_4841  SubscriptionId_3829   \n",
      "2  TransactionId_26203   BatchId_53941  AccountId_4229   SubscriptionId_222   \n",
      "3    TransactionId_380  BatchId_102363   AccountId_648  SubscriptionId_2185   \n",
      "4  TransactionId_28195   BatchId_38780  AccountId_4841  SubscriptionId_3829   \n",
      "\n",
      "        CustomerId CurrencyCode  CountryCode    ProviderId     ProductId  \\\n",
      "0  CustomerId_4406          UGX          256  ProviderId_6  ProductId_10   \n",
      "1  CustomerId_4406          UGX          256  ProviderId_4   ProductId_6   \n",
      "2  CustomerId_4683          UGX          256  ProviderId_6   ProductId_1   \n",
      "3   CustomerId_988          UGX          256  ProviderId_1  ProductId_21   \n",
      "4   CustomerId_988          UGX          256  ProviderId_4   ProductId_6   \n",
      "\n",
      "      ProductCategory    ChannelId       Amount        Value  PricingStrategy  \\\n",
      "0             airtime  ChannelId_3  6717.846433  9900.583941         2.255974   \n",
      "1  financial_services  ChannelId_2  6717.846433  9900.583941         2.255974   \n",
      "2             airtime  ChannelId_3  6717.846433  9900.583941         2.255974   \n",
      "3        utility_bill  ChannelId_3  6717.846433  9900.583941         2.255974   \n",
      "4  financial_services  ChannelId_2  6717.846433  9900.583941         2.255974   \n",
      "\n",
      "   FraudResult  \n",
      "0     0.002018  \n",
      "1     0.002018  \n",
      "2     0.002018  \n",
      "3     0.002018  \n",
      "4     0.002018  \n"
     ]
    }
   ],
   "source": [
    "print(framed_data.head())"
   ]
  },
  {
   "cell_type": "code",
   "execution_count": null,
   "id": "70b27e53-675d-4336-9367-663ed457b562",
   "metadata": {},
   "outputs": [],
   "source": [
    "from sklearn.preprocessing import LabelEncoder\n",
    "import pandas as pd\n",
    "\n",
    "# Assuming framed_data is your dataframe\n",
    "categorical_data = framed_data.select_dtypes(include='object').columns\n",
    "\n",
    "# Use Label Encoding for high-cardinality columns\n",
    "label_encoder = LabelEncoder()\n",
    "for col in categorical_data:\n",
    "    unique_values = framed_data[col].nunique()\n",
    "    if unique_values > 100:  # Set a threshold for large cardinality\n",
    "        framed_data[col] = label_encoder.fit_transform(framed_data[col])\n",
    "    else:\n",
    "        # Use one-hot encoding for lower cardinality columns\n",
    "        framed_data = pd.get_dummies(framed_data, columns=[col], drop_first=True)\n"
   ]
  },
  {
   "cell_type": "code",
   "execution_count": null,
   "id": "fbe082ee-d39b-4f8d-9182-6679b959a801",
   "metadata": {},
   "outputs": [],
   "source": [
    "import pandas as pd\n",
    "import numpy as np\n",
    "from sklearn.preprocessing import StandardScaler\n",
    "from sklearn.cluster import KMeans\n",
    "import woe\n",
    "\n",
    "# Load your data (assuming framed_data is already defined)\n",
    "# framed_data = pd.read_csv('your_data.csv')  # Uncomment if you need to load data\n",
    "\n",
    "# Convert TransactionStartTime to datetime\n",
    "framed_data['TransactionStartTime'] = pd.to_datetime(framed_data['TransactionStartTime'])\n"
   ]
  },
  {
   "cell_type": "code",
   "execution_count": null,
   "id": "f815e4aa-e5c8-433a-86b7-716956035156",
   "metadata": {},
   "outputs": [],
   "source": [
    "# Calculate Recency (R)\n",
    "latest_transaction = framed_data['TransactionStartTime'].max()\n",
    "framed_data['Recency'] = (latest_transaction - framed_data['TransactionStartTime']).dt.days\n",
    "\n",
    "# Calculate Frequency (F)\n",
    "frequency = framed_data.groupby('CustomerId')['TransactionId'].count().reset_index()\n",
    "frequency.columns = ['CustomerId', 'Frequency']\n",
    "\n",
    "# Calculate Monetary Value (M)\n",
    "monetary = framed_data.groupby('CustomerId')['Amount'].sum().reset_index()\n",
    "monetary.columns = ['CustomerId', 'Monetary']\n",
    "\n",
    "# Merge the RFMS data\n",
    "rfm = pd.merge(frequency, monetary, on='CustomerId')\n",
    "rfm = pd.merge(rfm, framed_data[['CustomerId', 'Recency']].drop_duplicates(), on='CustomerId')\n",
    "\n",
    "# Define Subscription score (S)\n",
    "subscription = framed_data.groupby('CustomerId')['ProductCategory'].nunique().reset_index()\n",
    "subscription.columns = ['CustomerId', 'Subscription']\n",
    "rfms = pd.merge(rfm, subscription, on='CustomerId')\n",
    "\n",
    "# Display RFMS DataFrame\n",
    "print(rfms.head())\n"
   ]
  },
  {
   "cell_type": "code",
   "execution_count": null,
   "id": "af40478b-766d-4217-b8eb-491f7a98fc9a",
   "metadata": {},
   "outputs": [],
   "source": [
    "# Scale RFMS values\n",
    "scaler = StandardScaler()\n",
    "rfms_scaled = scaler.fit_transform(rfms[['Recency', 'Frequency', 'Monetary', 'Subscription']])\n",
    "\n",
    "# Use KMeans clustering to classify users into \"good\" and \"bad\"\n",
    "kmeans = KMeans(n_clusters=2, random_state=42)  # 2 clusters\n",
    "rfms['Cluster'] = kmeans.fit_predict(rfms_scaled)\n",
    "\n",
    "# Assign labels based on the cluster\n",
    "rfms['Label'] = rfms['Cluster'].map({0: 'Bad', 1: 'Good'})  # Adjust if necessary\n"
   ]
  },
  {
   "cell_type": "code",
   "execution_count": null,
   "id": "90b81686-2a06-46df-973b-6be3491e9097",
   "metadata": {},
   "outputs": [],
   "source": [
    "# Example of WoE binning for Recency\n",
    "binning = woe.Binning(column='Recency', target='Label', qcut_binning=True)\n",
    "train_woe = binning.fit_transform(rfms)\n",
    "\n",
    "# You can repeat this for other columns as needed\n"
   ]
  },
  {
   "cell_type": "code",
   "execution_count": null,
   "id": "e941b7a4-366c-4fa0-8ffe-baee6885db89",
   "metadata": {},
   "outputs": [],
   "source": [
    "import seaborn as sns\n",
    "import matplotlib.pyplot as plt\n",
    "\n",
    "# Plot RFMS Clusters\n",
    "sns.pairplot(rfms, hue='Label', vars=['Recency', 'Frequency', 'Monetary', 'Subscription'])\n",
    "plt.title(\"RFMS Clustering Results\")\n",
    "plt.show()\n"
   ]
  },
  {
   "cell_type": "code",
   "execution_count": null,
   "id": "a2d5c991-def2-4c7a-88f9-4ad72d831844",
   "metadata": {},
   "outputs": [],
   "source": []
  }
 ],
 "metadata": {
  "kernelspec": {
   "display_name": "Python 3 (ipykernel)",
   "language": "python",
   "name": "python3"
  },
  "language_info": {
   "codemirror_mode": {
    "name": "ipython",
    "version": 3
   },
   "file_extension": ".py",
   "mimetype": "text/x-python",
   "name": "python",
   "nbconvert_exporter": "python",
   "pygments_lexer": "ipython3",
   "version": "3.12.6"
  }
 },
 "nbformat": 4,
 "nbformat_minor": 5
}
